{
 "cells": [
  {
   "cell_type": "code",
   "execution_count": null,
   "id": "b8f4eef2-7c8a-4abd-9d3e-3ae2eeb156bb",
   "metadata": {},
   "outputs": [],
   "source": [
    "In Python, the built-in function used to open a file is open(). It takes two arguments, the first argument is the name of the file that you want to open, and the second argument is the mode in which you want to open the file.\n",
    "\n",
    "The different modes of opening a file in Python are:\n",
    "\n",
    "Read mode (\"r\"): This is the default mode in which a file is opened. In this mode, you can only read the contents of the file, but you cannot modify or write new data to the file. If the file doesn't exist, it will raise a \"FileNotFoundError\".\n",
    "\n",
    "Write mode (\"w\"): In this mode, you can write new data to the file, and if the file doesn't exist, Python will create a new file. If the file already exists, the contents of the file will be erased before writing new data to the file.\n",
    "\n",
    "Append mode (\"a\"): In this mode, you can add new data to the end of the file, and if the file doesn't exist, Python will create a new file. The existing data in the file will not be erased.\n",
    "\n",
    "Binary mode (\"b\"): This mode is used to open a file in binary mode. This is useful when you are working with non-text files such as images, audio files, etc. You can use this mode along with the other modes.\n",
    "\n",
    "Read and Write mode (\"r+\"): In this mode, you can read and write data to the file. If the file doesn't exist, it will raise a \"FileNotFoundError\".\n",
    "\n",
    "Write and Read mode (\"w+\"): In this mode, you can read and write data to the file. If the file doesn't exist, Python will create a new file. If the file already exists, the contents of the file will be erased before writing new data to the file.\n",
    "\n",
    "Append and Read mode (\"a+\"): In this mode, you can read and add new data to the end of the file. If the file doesn't exist, Python will create a new file. The existing data in the file will not be erased.\n",
    "\n",
    "You can also use the \"x\" mode, which is used to create a new file and raise a \"FileExistsError\" if the file already exists.\n",
    "\n",
    "To open a file in a specific mode, you need to pass the mode as the second argument to the open() function, like this"
   ]
  },
  {
   "cell_type": "code",
   "execution_count": null,
   "id": "ff5272c8-1d78-45b8-b206-7dc01dd85a9a",
   "metadata": {},
   "outputs": [],
   "source": [
    "###question no 2"
   ]
  },
  {
   "cell_type": "code",
   "execution_count": null,
   "id": "ef2fa9ee-41ed-4ff0-ada5-4508e76dc069",
   "metadata": {},
   "outputs": [],
   "source": [
    "The close() function is used in programming to release any system resources or connections that were opened by the program. It is particularly important to close files because files are a limited resource and leaving them open can lead to issues such as running out of file descriptors, corrupted data, and security vulnerabilities.\n",
    "\n",
    "When you open a file in your program, the operating system assigns a file descriptor to that file, which is a unique identifier that the program uses to access the file. If you do not close the file when you are done using it, the file descriptor remains allocated, which means it is not available for other programs or processes to use. This can cause resource exhaustion on the system and lead to poor performance or crashes.\n",
    "\n",
    "Closing a file also ensures that any data that was buffered in memory is flushed to the file before it is closed, so that you don't lose any data that you wrote to the file but that was not yet physically written to disk.\n",
    "\n",
    "In summary, closing files properly with the close() function is important to free up system resources, prevent resource exhaustion, and ensure that any data that was written to the file is safely stored on disk."
   ]
  },
  {
   "cell_type": "code",
   "execution_count": null,
   "id": "a390560b-8398-4a6b-9ee6-a09819c53f9a",
   "metadata": {},
   "outputs": [],
   "source": [
    "###question no 3"
   ]
  },
  {
   "cell_type": "code",
   "execution_count": null,
   "id": "e721d2fe-6dac-4e00-867c-3b195f900187",
   "metadata": {},
   "outputs": [],
   "source": []
  }
 ],
 "metadata": {
  "kernelspec": {
   "display_name": "Python 3 (ipykernel)",
   "language": "python",
   "name": "python3"
  },
  "language_info": {
   "codemirror_mode": {
    "name": "ipython",
    "version": 3
   },
   "file_extension": ".py",
   "mimetype": "text/x-python",
   "name": "python",
   "nbconvert_exporter": "python",
   "pygments_lexer": "ipython3",
   "version": "3.10.8"
  }
 },
 "nbformat": 4,
 "nbformat_minor": 5
}
